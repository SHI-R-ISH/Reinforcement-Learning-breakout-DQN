{
 "cells": [
  {
   "cell_type": "code",
   "execution_count": 1,
   "metadata": {},
   "outputs": [],
   "source": [
    "\n",
    "import numpy as np\n",
    "import torch\n",
    "import time\n",
    "from torch import nn\n",
    "import gym\n",
    "import cv2\n",
    "import copy\n",
    "import matplotlib.pyplot as plt\n",
    "from IPython import display\n",
    "from tqdm import tqdm\n"
   ]
  },
  {
   "attachments": {},
   "cell_type": "markdown",
   "metadata": {},
   "source": [
    "DEFINING THE ENVIRONMENT"
   ]
  },
  {
   "cell_type": "code",
   "execution_count": 2,
   "metadata": {},
   "outputs": [
    {
     "name": "stdout",
     "output_type": "stream",
     "text": [
      "Discrete(6)\n"
     ]
    },
    {
     "name": "stderr",
     "output_type": "stream",
     "text": [
      "A.L.E: Arcade Learning Environment (version 0.7.5+db37282)\n",
      "[Powered by Stella]\n"
     ]
    }
   ],
   "source": [
    "\n",
    "#env = gym.make('BreakoutDeterministic-v4')\n",
    "#env = gym.make('ALE/Seaquest-v5')\n",
    "#env = gym.make('ALE/Qbert-v5')\n",
    "env = gym.make('ALE/SpaceInvaders-v5')\n",
    "print(env.action_space)\n"
   ]
  },
  {
   "attachments": {},
   "cell_type": "markdown",
   "metadata": {},
   "source": [
    "HYPER PARAMETERS"
   ]
  },
  {
   "cell_type": "code",
   "execution_count": 3,
   "metadata": {},
   "outputs": [],
   "source": [
    "feedback = 4\n",
    "frame_skip = 3\n",
    "Anneal = 50000 \n",
    "epsilon = lambda step: np.clip(1 - 0.9 * (step/Anneal), 0.1, 1) \n",
    "Number_Of_Episodes = 1000\n",
    "Maximum_Number_Of_Steps_In_A_Episode = 1000\n",
    "Experience_replay_highest_storage_capacity = 10000 \n",
    "Number_Of_Actions = env.action_space.n \n",
    "Batch_Size = 32\n",
    "LR = 2.5e-4\n",
    "Intervals = 100"
   ]
  },
  {
   "attachments": {},
   "cell_type": "markdown",
   "metadata": {},
   "source": [
    "IMAGE PREPROCESSING"
   ]
  },
  {
   "cell_type": "code",
   "execution_count": 4,
   "metadata": {},
   "outputs": [],
   "source": [
    "\n",
    "\n",
    "def IMAGE_PROCESSSING(Observation, Cropping_image_to=(84, 110), Image_size=None):\n",
    "    assert(type(Observation) == np.ndarray), \"The observation must be a numpy array!\"\n",
    "    assert(len(Observation.shape) == 3), \"The observation must be a 3D array!\"\n",
    "\n",
    "    Observation = cv2.resize(Observation, Cropping_image_to, interpolation=cv2.INTER_LINEAR)\n",
    "    Observation = cv2.cvtColor(Observation, cv2.COLOR_BGR2GRAY)\n",
    "    Observation = Observation / 255.\n",
    "    if Image_size:\n",
    "        Remove_Borders_in_width = (Cropping_image_to[1] - Image_size[1]) // 2\n",
    "        Remove_Borders_in_height = (Cropping_image_to[0] - Image_size[0]) // 2\n",
    "        \n",
    "        begining_of_width, end_of_width = Remove_Borders_in_width, Cropping_image_to[1] - Remove_Borders_in_width\n",
    "        begining_of_height, end_of_height = Remove_Borders_in_height, Cropping_image_to[0] - Remove_Borders_in_height\n",
    "        \n",
    "        Observation = Observation[begining_of_width:end_of_width, begining_of_height:end_of_height]\n",
    "    \n",
    "    return Observation\n",
    "\n",
    "def STACKING_IMAGE_TOGETHER(Observation, before_image):\n",
    "    if not before_image:\n",
    "        before_image = [Observation] * (3)\n",
    "        \n",
    "    before_image.append(Observation)\n",
    "    clubed_image = np.stack(before_image)\n",
    "    before_image = before_image[-(3):]\n",
    "    \n",
    "    return clubed_image, before_image\n",
    "\n",
    "def FINAL_RESULT_FOR_FEEDING_TO_CNN(Observation, before_image):\n",
    "    Final_result_of_the_observation = IMAGE_PROCESSSING(Observation)\n",
    "    clubed_result, before_image = STACKING_IMAGE_TOGETHER(Final_result_of_the_observation, before_image)\n",
    "    return clubed_result, before_image\n",
    "\n",
    "def Selection_of_rew(rew):\n",
    "    if rew > 0:\n",
    "        return 1\n",
    "    elif rew < 0:\n",
    "        return -1\n",
    "    return 0\n"
   ]
  },
  {
   "attachments": {},
   "cell_type": "markdown",
   "metadata": {},
   "source": [
    "IMPLEMENTING THE DQN AGENT"
   ]
  },
  {
   "cell_type": "code",
   "execution_count": 5,
   "metadata": {},
   "outputs": [],
   "source": [
    "class DQN(nn.Module):\n",
    "    def __init__(self, Number_Of_Actions):\n",
    "        super(DQN, self).__init__()\n",
    "        \n",
    "        self.L1 = nn.Sequential(\n",
    "            nn.Conv2d(4, 16, kernel_size=8, stride=4, padding=0),\n",
    "            nn.ReLU())\n",
    "        self.L2 = nn.Sequential(\n",
    "            nn.Conv2d(16, 32, kernel_size=4, stride=2, padding=0),\n",
    "            nn.ReLU())\n",
    "        self.Linear_layer = nn.Sequential(\n",
    "            nn.Linear(32 * 12 * 9, 256),\n",
    "            nn.ReLU())\n",
    "        self.L3 = nn.Sequential(\n",
    "            nn.Linear(256, Number_Of_Actions))\n",
    "        \n",
    "    def forward(self, Observation):\n",
    "        state = self.L1(Observation)\n",
    "        state = self.L2(state)\n",
    "        state = state.view(-1, 32 * 12 * 9)\n",
    "        state = self.Linear_layer(state)\n",
    "        state = self.L3(state)\n",
    "        return state\n",
    "    \n",
    "    def BATCH(self, optimizer, Observation, acts, rewards, nextstate, terminals, gamma=1.0):\n",
    "        \n",
    "        next_state = self.forward(nextstate)\n",
    "        max_next_state = torch.max(next_state, dim=1)[0].detach()\n",
    "        \n",
    "        final_state = 1 - terminals\n",
    "        known_qvalue = rewards + final_state * gamma * max_next_state\n",
    "            \n",
    "        estimated_qvalue = self.forward(Observation)\n",
    "        estimated_qvalue = estimated_qvalue.gather(index=acts.view(-1, 1), dim=1).view(-1)\n",
    "        \n",
    "        loss = torch.mean((known_qvalue - estimated_qvalue) ** 2)\n",
    "        \n",
    "        optimizer.zero_grad()\n",
    "        loss.backward()\n",
    "        optimizer.step()\n"
   ]
  },
  {
   "attachments": {},
   "cell_type": "markdown",
   "metadata": {},
   "source": [
    "EXPERIENCE REPLAY"
   ]
  },
  {
   "cell_type": "code",
   "execution_count": 6,
   "metadata": {},
   "outputs": [],
   "source": [
    "\n",
    "class EXPERIENCE_REPLAY():\n",
    "    def __init__(self, maximum_storage):\n",
    "        self.maximum_storage = maximum_storage\n",
    "        self.data = []\n",
    "        \n",
    "    def Appending_the_data(self, addon):\n",
    "        self.data.append(addon)\n",
    "        if len(self.data) > self.maximum_storage:\n",
    "            self.data = self.data[-self.maximum_storage:]\n",
    "            \n",
    "    def Storage(self, n):\n",
    "        n = min(n, len(self.data))\n",
    "        selection = np.random.choice(range(len(self.data)), n, replace=False)\n",
    "        solutions = np.asarray(self.data)[selection]\n",
    "        \n",
    "        presentstate = torch.tensor(np.stack(solutions[:, 0])).float().cpu()\n",
    "        actiontaken = torch.tensor(np.stack(solutions[:, 1])).long().cpu()\n",
    "        Obtainedrew = torch.tensor(np.stack(solutions[:, 2])).float().cpu()\n",
    "        upcomingstate = torch.tensor(np.stack(solutions[:, 3])).float().cpu()\n",
    "        info = torch.tensor(np.stack(solutions[:, 4])).float().cpu()\n",
    "        \n",
    "        return presentstate, actiontaken, Obtainedrew, upcomingstate, info\n"
   ]
  },
  {
   "cell_type": "code",
   "execution_count": 7,
   "metadata": {},
   "outputs": [
    {
     "name": "stderr",
     "output_type": "stream",
     "text": [
      "  0%|          | 0/1000 [00:00<?, ?it/s]/var/folders/jd/mdg1f1x937q_vg_xlpcw1c4c0000gn/T/ipykernel_55074/589511636.py:14: VisibleDeprecationWarning: Creating an ndarray from ragged nested sequences (which is a list-or-tuple of lists-or-tuples-or ndarrays with different lengths or shapes) is deprecated. If you meant to do this, you must specify 'dtype=object' when creating the ndarray.\n",
      "  solutions = np.asarray(self.data)[selection]\n",
      "  0%|          | 1/1000 [00:02<42:43,  2.57s/it]"
     ]
    },
    {
     "name": "stdout",
     "output_type": "stream",
     "text": [
      "Episode #0 | Step #233 | Epsilon 1.00 | Average_Rewards215.00\n"
     ]
    },
    {
     "name": "stderr",
     "output_type": "stream",
     "text": [
      "  0%|          | 2/1000 [00:03<29:20,  1.76s/it]/var/folders/jd/mdg1f1x937q_vg_xlpcw1c4c0000gn/T/ipykernel_55074/3711458623.py:20: UserWarning: Creating a tensor from a list of numpy.ndarrays is extremely slow. Please consider converting the list to a single numpy.ndarray with numpy.array() before converting to a tensor. (Triggered internally at /Users/runner/work/pytorch/pytorch/pytorch/torch/csrc/utils/tensor_new.cpp:233.)\n",
      "  obs_tensor = torch.tensor([Observation]).float().cpu()\n",
      " 10%|█         | 101/1000 [03:39<33:03,  2.21s/it]"
     ]
    },
    {
     "name": "stdout",
     "output_type": "stream",
     "text": [
      "Episode #100 | Step #17919 | Epsilon 0.68 | Average_Rewards143.20\n"
     ]
    },
    {
     "name": "stderr",
     "output_type": "stream",
     "text": [
      " 20%|██        | 201/1000 [07:59<41:50,  3.14s/it]"
     ]
    },
    {
     "name": "stdout",
     "output_type": "stream",
     "text": [
      "Episode #200 | Step #37279 | Epsilon 0.33 | Average_Rewards149.00\n"
     ]
    },
    {
     "name": "stderr",
     "output_type": "stream",
     "text": [
      " 30%|███       | 301/1000 [13:11<33:28,  2.87s/it]"
     ]
    },
    {
     "name": "stdout",
     "output_type": "stream",
     "text": [
      "Episode #300 | Step #59348 | Epsilon 0.10 | Average_Rewards160.95\n"
     ]
    },
    {
     "name": "stderr",
     "output_type": "stream",
     "text": [
      " 40%|████      | 401/1000 [18:16<28:03,  2.81s/it]"
     ]
    },
    {
     "name": "stdout",
     "output_type": "stream",
     "text": [
      "Episode #400 | Step #80710 | Epsilon 0.10 | Average_Rewards123.80\n"
     ]
    },
    {
     "name": "stderr",
     "output_type": "stream",
     "text": [
      " 50%|█████     | 501/1000 [23:26<32:05,  3.86s/it]"
     ]
    },
    {
     "name": "stdout",
     "output_type": "stream",
     "text": [
      "Episode #500 | Step #102413 | Epsilon 0.10 | Average_Rewards144.00\n"
     ]
    },
    {
     "name": "stderr",
     "output_type": "stream",
     "text": [
      " 60%|██████    | 601/1000 [28:11<19:57,  3.00s/it]"
     ]
    },
    {
     "name": "stdout",
     "output_type": "stream",
     "text": [
      "Episode #600 | Step #123267 | Epsilon 0.10 | Average_Rewards148.05\n"
     ]
    },
    {
     "name": "stderr",
     "output_type": "stream",
     "text": [
      " 70%|███████   | 701/1000 [33:16<11:21,  2.28s/it]"
     ]
    },
    {
     "name": "stdout",
     "output_type": "stream",
     "text": [
      "Episode #700 | Step #145393 | Epsilon 0.10 | Average_Rewards168.30\n"
     ]
    },
    {
     "name": "stderr",
     "output_type": "stream",
     "text": [
      " 80%|████████  | 801/1000 [37:58<09:03,  2.73s/it]"
     ]
    },
    {
     "name": "stdout",
     "output_type": "stream",
     "text": [
      "Episode #800 | Step #165376 | Epsilon 0.10 | Average_Rewards102.35\n"
     ]
    },
    {
     "name": "stderr",
     "output_type": "stream",
     "text": [
      " 90%|█████████ | 901/1000 [42:40<04:16,  2.59s/it]"
     ]
    },
    {
     "name": "stdout",
     "output_type": "stream",
     "text": [
      "Episode #900 | Step #185126 | Epsilon 0.10 | Average_Rewards116.35\n"
     ]
    },
    {
     "name": "stderr",
     "output_type": "stream",
     "text": [
      "100%|██████████| 1000/1000 [47:40<00:00,  2.86s/it]\n"
     ]
    },
    {
     "data": {
      "image/png": "[encoded data removed]",
      "text/plain": [
       "<Figure size 640x480 with 1 Axes>"
      ]
     },
     "metadata": {},
     "output_type": "display_data"
    }
   ],
   "source": [
    "ExperienceR = EXPERIENCE_REPLAY(Experience_replay_highest_storage_capacity)\n",
    "model = DQN(Number_Of_Actions=env.action_space.n).cpu()\n",
    "optimizer = torch.optim.RMSprop(model.parameters(), lr=LR, eps=1e-6)\n",
    "accumulatedrew = []\n",
    "cummulativesteps = 0\n",
    "\n",
    "for episode in tqdm(range(Number_Of_Episodes)):\n",
    "    before_image = []\n",
    "    Observation, before_image = FINAL_RESULT_FOR_FEEDING_TO_CNN(env.reset(), before_image)\n",
    "    \n",
    "    episode_reward = 0\n",
    "    step = 0\n",
    "    while step < Maximum_Number_Of_Steps_In_A_Episode:\n",
    "\n",
    "        ### Enact a step ###\n",
    "        \n",
    "        if np.random.rand() < epsilon(cummulativesteps):\n",
    "            act = np.random.choice(range(Number_Of_Actions))\n",
    "        else:\n",
    "            obs_tensor = torch.tensor([Observation]).float().cpu()\n",
    "            state = model(obs_tensor)[0]\n",
    "            state = state.cpu().detach().numpy()\n",
    "            act = np.argmax(state)\n",
    "        \n",
    "        cumulative_reward = 0\n",
    "        for _ in range(frame_skip):\n",
    "            nextstate, rew, done, _ = env.step(act)\n",
    "            cumulative_reward += rew\n",
    "            if done or step >= Maximum_Number_Of_Steps_In_A_Episode:\n",
    "                break\n",
    "        episode_reward += cumulative_reward\n",
    "        rew = Selection_of_rew(cumulative_reward)\n",
    "        nextstate, before_image = FINAL_RESULT_FOR_FEEDING_TO_CNN(nextstate, before_image)\n",
    "        ExperienceR.Appending_the_data([Observation, act, rew, nextstate, int(done)])\n",
    "        Observation = nextstate\n",
    "        \n",
    "        ### Train on a minibatch ###\n",
    "\n",
    "        if cummulativesteps % feedback == 0:\n",
    "            environmentdata, actiontaken, Obtainedrew, next_obs_data, info = ExperienceR.Storage(Batch_Size)\n",
    "            model.BATCH(optimizer, environmentdata, actiontaken, Obtainedrew, next_obs_data, info)\n",
    "        \n",
    "        step += 1\n",
    "        cummulativesteps += 1\n",
    "        \n",
    "        if done:\n",
    "            break\n",
    "            \n",
    "    accumulatedrew.append(episode_reward)\n",
    "\n",
    "\n",
    "    \n",
    "    if episode % Intervals == 0:\n",
    "\n",
    "        print('Episode #{} | Step #{} | Epsilon {:.2f} | Average_Rewards{:.2f}'.format(\n",
    "            episode, cummulativesteps, epsilon(cummulativesteps), np.mean(accumulatedrew[-Intervals:])))\n",
    "\n",
    "\n",
    "plt.plot(accumulatedrew)\n",
    "#add a title\n",
    "plt.title('Space Invaders DQN @ 1000 episodes')\n",
    "#add a label to the x-axis\n",
    "plt.xlabel('Episodes')\n",
    "#add a label to the y-axis\n",
    "plt.ylabel('Rewards')\n",
    "plt.show()\n",
    "\n",
    "\n",
    "\n",
    "\n",
    "     \n"
   ]
  },
  {
   "cell_type": "code",
   "execution_count": null,
   "metadata": {},
   "outputs": [],
   "source": []
  },
  {
   "cell_type": "code",
   "execution_count": null,
   "metadata": {},
   "outputs": [],
   "source": []
  }
 ],
 "metadata": {
  "kernelspec": {
   "display_name": "Python 3.9.6 64-bit",
   "language": "python",
   "name": "python3"
  },
  "language_info": {
   "codemirror_mode": {
    "name": "ipython",
    "version": 3
   },
   "file_extension": ".py",
   "mimetype": "text/x-python",
   "name": "python",
   "nbconvert_exporter": "python",
   "pygments_lexer": "ipython3",
   "version": "3.9.6"
  },
  "orig_nbformat": 4,
  "vscode": {
   "interpreter": {
    "hash": "31f2aee4e71d21fbe5cf8b01ff0e069b9275f58929596ceb00d14d90e3e16cd6"
   }
  }
 },
 "nbformat": 4,
 "nbformat_minor": 2
}
